{
 "cells": [
  {
   "cell_type": "markdown",
   "metadata": {},
   "source": [
    "# CodeWars Solutions "
   ]
  },
  {
   "cell_type": "markdown",
   "metadata": {},
   "source": [
    "Given an array of integers your solution should find the smallest integer. Assume no empty arrays"
   ]
  },
  {
   "cell_type": "code",
   "execution_count": 8,
   "metadata": {},
   "outputs": [
    {
     "data": {
      "text/plain": [
       "11"
      ]
     },
     "execution_count": 8,
     "metadata": {},
     "output_type": "execute_result"
    }
   ],
   "source": [
    "def find_smallest_int(arr):\n",
    "    min = arr[0]\n",
    "    for i in arr:\n",
    "        if i < min:\n",
    "            min = i\n",
    "    return min \n",
    "\n",
    "find_smallest_int([78, 56, 232, 12, 11, 43])"
   ]
  },
  {
   "cell_type": "code",
   "execution_count": 7,
   "metadata": {},
   "outputs": [
    {
     "data": {
      "text/plain": [
       "11"
      ]
     },
     "execution_count": 7,
     "metadata": {},
     "output_type": "execute_result"
    }
   ],
   "source": [
    "# Use the built in min() function \n",
    "def find_smallest_alt(arr):\n",
    "    return min(arr)\n",
    "\n",
    "find_smallest_alt([78, 56, 232, 12, 11, 43])"
   ]
  },
  {
   "cell_type": "markdown",
   "metadata": {},
   "source": [
    "All of the animals are having a feast! Each animal is bringing one dish. There is just one rule: the dish must start and end with the same letters as the animal's name. For example, the great blue heron is bringing garlic naan and the chickadee is bringing chocolate cake."
   ]
  },
  {
   "cell_type": "code",
   "execution_count": 10,
   "metadata": {},
   "outputs": [
    {
     "data": {
      "text/plain": [
       "True"
      ]
     },
     "execution_count": 10,
     "metadata": {},
     "output_type": "execute_result"
    }
   ],
   "source": [
    "def feast(beast, dish):\n",
    "    if beast[0] == dish[0] and beast[-1] == dish[-1]:\n",
    "        return True\n",
    "    else:\n",
    "        return False\n",
    "\n",
    "feast('chickadee', 'chocolate cake')  "
   ]
  },
  {
   "cell_type": "markdown",
   "metadata": {},
   "source": [
    "The two oldest ages function/method needs to be completed. It should take an array of numbers as its argument and return the two highest numbers within the array. The returned value should be an array in the format[second oldest age, oldest age]."
   ]
  },
  {
   "cell_type": "code",
   "execution_count": 30,
   "metadata": {},
   "outputs": [
    {
     "data": {
      "text/plain": [
       "[45, 87]"
      ]
     },
     "execution_count": 30,
     "metadata": {},
     "output_type": "execute_result"
    }
   ],
   "source": [
    "def two_oldest_ages(ages):\n",
    "    result = []\n",
    "    result.append(max(ages))\n",
    "    ages.remove(max(ages))\n",
    "    result.append(max(ages))\n",
    "    return result[::-1] \n",
    "\n",
    "two_oldest_ages([1, 5, 87, 45, 8, 8])"
   ]
  },
  {
   "cell_type": "code",
   "execution_count": 35,
   "metadata": {},
   "outputs": [],
   "source": [
    "# Same problem above, but solve using a lambda function\n",
    "two_oldest_ages = lambda a: sorted(a)[-2:]"
   ]
  },
  {
   "cell_type": "markdown",
   "metadata": {},
   "source": [
    "Simple, given a string of words, return the length of the shortest word(s)."
   ]
  },
  {
   "cell_type": "code",
   "execution_count": 36,
   "metadata": {},
   "outputs": [
    {
     "data": {
      "text/plain": [
       "3"
      ]
     },
     "execution_count": 36,
     "metadata": {},
     "output_type": "execute_result"
    }
   ],
   "source": [
    "def find_short(s):\n",
    "    str_list = s.split()\n",
    "    l = len(str_list[0])\n",
    "    for i in str_list:\n",
    "        if len(i) < l:\n",
    "            l = len(i)\n",
    "    return l\n",
    "\n",
    "find_short(\"bitcoin take over the world maybe who knows perhaps\")"
   ]
  },
  {
   "cell_type": "code",
   "execution_count": null,
   "metadata": {},
   "outputs": [],
   "source": [
    "# Same as above using list comprehension \n",
    "def find_short(s):\n",
    "    return min(len(x) for x in s.split())"
   ]
  },
  {
   "cell_type": "markdown",
   "metadata": {},
   "source": [
    "Check to see if a string has the same amount of 'x's and 'o's. The method must return a boolean and be case insensitive. The string can contain any char."
   ]
  },
  {
   "cell_type": "code",
   "execution_count": 38,
   "metadata": {},
   "outputs": [
    {
     "data": {
      "text/plain": [
       "False"
      ]
     },
     "execution_count": 38,
     "metadata": {},
     "output_type": "execute_result"
    }
   ],
   "source": [
    "def xo(s):\n",
    "    s = s.lower()\n",
    "    x_count = 0\n",
    "    o_count = 0\n",
    "    for i in s:\n",
    "        if i == 'x':\n",
    "            x_count += 1\n",
    "        elif i == 'o':\n",
    "            o_count += 1\n",
    "    return x_count == o_count \n",
    "\n",
    "xo(\"xoo\")"
   ]
  },
  {
   "cell_type": "code",
   "execution_count": null,
   "metadata": {},
   "outputs": [],
   "source": [
    "# Same as above using count() \n",
    "def xo(s):\n",
    "    s = s.lower()\n",
    "    return s.count('x') == s.count('o')"
   ]
  },
  {
   "cell_type": "markdown",
   "metadata": {},
   "source": [
    "Given an array (arr) as an argument complete the function countSmileys that should return the total number of smiling faces."
   ]
  },
  {
   "cell_type": "code",
   "execution_count": 49,
   "metadata": {},
   "outputs": [
    {
     "data": {
      "text/plain": [
       "4"
      ]
     },
     "execution_count": 49,
     "metadata": {},
     "output_type": "execute_result"
    }
   ],
   "source": [
    "def count_smileys(arr):\n",
    "    count = 0\n",
    "    for i in arr:\n",
    "        if len(i) == 3:\n",
    "            if i[0] in [':', ';']:\n",
    "                if i[1] in ['-', '~']:\n",
    "                    if i[2] in [')', 'D']:\n",
    "                        count += 1\n",
    "        elif len(i) == 2:\n",
    "             if i[0] in [':', ';']:\n",
    "                    if i[1] in [')', 'D']:\n",
    "                        count += 1\n",
    "    return count \n",
    "            \n",
    "count_smileys([':D',':~)',';~D',':)'])           "
   ]
  },
  {
   "cell_type": "code",
   "execution_count": null,
   "metadata": {},
   "outputs": [],
   "source": [
    "# Alternate way to solve above\n",
    "def count_smileys(arr):\n",
    "    eyes = [\":\", \";\"]\n",
    "    noses = [\"\", \"-\", \"~\"]\n",
    "    mouths = [\")\", \"D\"]\n",
    "    count = 0\n",
    "    for eye in eyes:\n",
    "        for nose in noses:\n",
    "            for mouth in mouths:\n",
    "                face = eye + nose + mouth\n",
    "                count += arr.count(face)\n",
    "    return count"
   ]
  },
  {
   "cell_type": "markdown",
   "metadata": {},
   "source": [
    "You get an array of numbers, return the sum of all of the positives ones."
   ]
  },
  {
   "cell_type": "code",
   "execution_count": 2,
   "metadata": {},
   "outputs": [
    {
     "data": {
      "text/plain": [
       "6"
      ]
     },
     "execution_count": 2,
     "metadata": {},
     "output_type": "execute_result"
    }
   ],
   "source": [
    "def positive_sum(arr):\n",
    "    result = 0\n",
    "    for i in arr:\n",
    "        if i > 0:\n",
    "            result += i\n",
    "    return result\n",
    "positive_sum([1,2,3,-2])"
   ]
  },
  {
   "cell_type": "code",
   "execution_count": null,
   "metadata": {},
   "outputs": [],
   "source": [
    "#Alternate way to solve above\n",
    "def positive_sum(arr):\n",
    "    return sum(x for x in arr if x > 0)"
   ]
  },
  {
   "cell_type": "markdown",
   "metadata": {},
   "source": [
    "Given a year, return the century it is in."
   ]
  },
  {
   "cell_type": "code",
   "execution_count": 9,
   "metadata": {},
   "outputs": [
    {
     "data": {
      "text/plain": [
       "4"
      ]
     },
     "execution_count": 9,
     "metadata": {},
     "output_type": "execute_result"
    }
   ],
   "source": [
    "def century(year):\n",
    "    if year < 100:\n",
    "        return 1\n",
    "    elif year % 100 == 0:\n",
    "        return int(year / 100)\n",
    "    else:\n",
    "        return int(year / 100) + 1\n",
    "    \n",
    "century(356)"
   ]
  },
  {
   "cell_type": "markdown",
   "metadata": {},
   "source": [
    "Output the next light color - green, yellow, red"
   ]
  },
  {
   "cell_type": "code",
   "execution_count": 11,
   "metadata": {},
   "outputs": [
    {
     "data": {
      "text/plain": [
       "'green'"
      ]
     },
     "execution_count": 11,
     "metadata": {},
     "output_type": "execute_result"
    }
   ],
   "source": [
    "def update_light(current):\n",
    "    if current == 'green':\n",
    "        return 'yellow'\n",
    "    elif current == 'yellow':\n",
    "        return 'red'\n",
    "    elif current == 'red':\n",
    "        return 'green'\n",
    "    \n",
    "update_light('red')"
   ]
  },
  {
   "cell_type": "markdown",
   "metadata": {},
   "source": [
    "Given an array of integers , Find the maximum product obtained from multiplying 2 adjacent numbers in the array."
   ]
  },
  {
   "cell_type": "code",
   "execution_count": 8,
   "metadata": {},
   "outputs": [
    {
     "data": {
      "text/plain": [
       "-14"
      ]
     },
     "execution_count": 8,
     "metadata": {},
     "output_type": "execute_result"
    }
   ],
   "source": [
    "def adjacent_element_product(array):\n",
    "    max_product = array[0] * array[1]\n",
    "    for i in range(len(array) - 1): \n",
    "        if array[i] * array[i + 1] > max_product:\n",
    "            max_product = array[i] * array[i + 1]\n",
    "    return max_product\n",
    "\n",
    "adjacent_element_product([-23, 4, -5, 99, -27, 329, -2, 7, -921])"
   ]
  },
  {
   "cell_type": "markdown",
   "metadata": {},
   "source": [
    "Your task is very simple.Just write a function isAlphabetic(s), which takes an input string s in lowercase and returnstrue/false depending on whether the string is in alphabetical order or not."
   ]
  },
  {
   "cell_type": "code",
   "execution_count": 18,
   "metadata": {},
   "outputs": [
    {
     "name": "stdout",
     "output_type": "stream",
     "text": [
      "['c', 'o', 'd', 'e', 'w', 'a', 'r', 's']\n"
     ]
    },
    {
     "data": {
      "text/plain": [
       "False"
      ]
     },
     "execution_count": 18,
     "metadata": {},
     "output_type": "execute_result"
    }
   ],
   "source": [
    "def alphabetic(s):\n",
    "    split = list(s)\n",
    "    print(split)\n",
    "    for i in range(len(split) -1):\n",
    "        if split[i] > split[i + 1]:\n",
    "            return False\n",
    "    return True \n",
    "\n",
    "alphabetic('codewars')"
   ]
  },
  {
   "cell_type": "code",
   "execution_count": 19,
   "metadata": {},
   "outputs": [
    {
     "data": {
      "text/plain": [
       "['a', 'c', 'd', 'e', 'o', 'r', 's', 'w']"
      ]
     },
     "execution_count": 19,
     "metadata": {},
     "output_type": "execute_result"
    }
   ],
   "source": [
    "# Alternative solution to above \n",
    "def alphabetic(s):\n",
    "    return sorted(s) == list(s)"
   ]
  },
  {
   "cell_type": "markdown",
   "metadata": {},
   "source": [
    "Given two strings, the first being a random string and the second being the same as the first, but with three added characters somewhere in the string (three same characters), Write a function that returns the added character"
   ]
  },
  {
   "cell_type": "code",
   "execution_count": 45,
   "metadata": {},
   "outputs": [
    {
     "data": {
      "text/plain": [
       "'c'"
      ]
     },
     "execution_count": 45,
     "metadata": {},
     "output_type": "execute_result"
    }
   ],
   "source": [
    "def added_char(s1, s2):\n",
    "    s1_list = sorted(s1)\n",
    "    s2_list = sorted(s2)\n",
    "    for i in s1_list:\n",
    "        if i in s2_list:\n",
    "            s2_list.remove(i)\n",
    "    return s2_list[0]\n",
    "            \n",
    "added_char(\"hello\",\"checlclo\")   "
   ]
  },
  {
   "cell_type": "code",
   "execution_count": 46,
   "metadata": {},
   "outputs": [],
   "source": [
    "# Alternative solution to above\n",
    "def added_char(s1, s2):\n",
    "    for i in s2:\n",
    "        if s1.count(i) != s2.count(i):\n",
    "            return i"
   ]
  },
  {
   "cell_type": "markdown",
   "metadata": {},
   "source": [
    "Create a function named divisors/Divisors that takes an integer and returns an array with all of the integer's divisors (except for 1 and the number itself). If the number is prime return the string '(integer) is prime' (null in C#) (use Either String a in Haskell and Result<Vec<u32>, String> in Rust)."
   ]
  },
  {
   "cell_type": "code",
   "execution_count": 52,
   "metadata": {},
   "outputs": [
    {
     "data": {
      "text/plain": [
       "'13 is prime'"
      ]
     },
     "execution_count": 52,
     "metadata": {},
     "output_type": "execute_result"
    }
   ],
   "source": [
    "def divisors(integer):\n",
    "    result = []\n",
    "    for i in range(2, integer):\n",
    "        if integer % i == 0:\n",
    "            result.append(i)\n",
    "    if result == []:\n",
    "        return \"{} is prime\".format(integer)\n",
    "    return result \n",
    "\n",
    "divisors(13)"
   ]
  },
  {
   "cell_type": "markdown",
   "metadata": {},
   "source": [
    "Write a function that takes in a string of one or more words, and returns the same string, but with all five or more letter words reversed (Just like the name of this Kata). Strings passed in will consist of only letters and spaces. Spaces will be included only when more than one word is present."
   ]
  },
  {
   "cell_type": "code",
   "execution_count": 68,
   "metadata": {},
   "outputs": [
    {
     "data": {
      "text/plain": [
       "'emocleW my name is retsam of enoyreve'"
      ]
     },
     "execution_count": 68,
     "metadata": {},
     "output_type": "execute_result"
    }
   ],
   "source": [
    "def spin_words(sentence):\n",
    "    split = sentence.split()\n",
    "    split = [ i[::-1] if len(i)>= 5 else i for i in split]\n",
    "    return ' '.join(split)\n",
    "\n",
    "spin_words(\"Welcome my name is master of everyone\")"
   ]
  },
  {
   "cell_type": "markdown",
   "metadata": {},
   "source": [
    "You are going to be given an array of integers. Your job is to take that array and find an index N where the sum of the integers to the left of N is equal to the sum of the integers to the right of N. If there is no index that would make this happen, return -1"
   ]
  },
  {
   "cell_type": "code",
   "execution_count": 77,
   "metadata": {},
   "outputs": [
    {
     "data": {
      "text/plain": [
       "-1"
      ]
     },
     "execution_count": 77,
     "metadata": {},
     "output_type": "execute_result"
    }
   ],
   "source": [
    "def find_even_index(arr):\n",
    "    result = -1\n",
    "    for i in range(len(arr)):\n",
    "        if sum(arr[:i]) == sum(arr[i+1:]):\n",
    "            return i\n",
    "    return result\n",
    "\n",
    "find_even_index([1,2,3,4,5,6])"
   ]
  },
  {
   "cell_type": "markdown",
   "metadata": {},
   "source": [
    "Build Tower by the following given argument: number of floors (integer and always greater than 0)."
   ]
  },
  {
   "cell_type": "code",
   "execution_count": 91,
   "metadata": {},
   "outputs": [
    {
     "data": {
      "text/plain": [
       "['   *   ', '  ***  ', ' ***** ', '*******']"
      ]
     },
     "execution_count": 91,
     "metadata": {},
     "output_type": "execute_result"
    }
   ],
   "source": [
    "def tower_builder(n_floors):\n",
    "    result = []\n",
    "    counter = 1\n",
    "    spaces = n_floors - 1\n",
    "    for i in range(1, n_floors + 1):\n",
    "        result.append((' ' * spaces) + (counter * '*') + (' ' * spaces))\n",
    "        counter += 2\n",
    "        spaces = spaces - 1\n",
    "    return result \n",
    "\n",
    "tower_builder(4)     "
   ]
  },
  {
   "cell_type": "markdown",
   "metadata": {},
   "source": [
    "Given an integer as input, can you round it to the next (meaning, \"higher\") 5?"
   ]
  },
  {
   "cell_type": "code",
   "execution_count": 5,
   "metadata": {},
   "outputs": [
    {
     "data": {
      "text/plain": [
       "0"
      ]
     },
     "execution_count": 5,
     "metadata": {},
     "output_type": "execute_result"
    }
   ],
   "source": [
    "def round_to_next5(n):\n",
    "    if n == 0:\n",
    "        return 0\n",
    "    elif n % 5 == 0:\n",
    "        return n\n",
    "    else:\n",
    "        return n - (n % 5) + 5\n",
    "\n",
    "round_to_next5(-2)"
   ]
  },
  {
   "cell_type": "markdown",
   "metadata": {},
   "source": [
    "Write a function, which takes a non-negative integer (seconds) as input and returns the time in a human-readable format (HH:MM:SS)"
   ]
  },
  {
   "cell_type": "code",
   "execution_count": 25,
   "metadata": {},
   "outputs": [
    {
     "data": {
      "text/plain": [
       "'01:01:40'"
      ]
     },
     "execution_count": 25,
     "metadata": {},
     "output_type": "execute_result"
    }
   ],
   "source": [
    "def make_readable(seconds):\n",
    "    result = []\n",
    "    hours = int(seconds / 3600)\n",
    "    if len(str(hours)) < 2:\n",
    "        result.append('0' + str(hours) + ':')\n",
    "    else:\n",
    "        result.append(str(hours) + ':')\n",
    "    remaining =  seconds % 3600\n",
    "    minutes = int(remaining / 60)\n",
    "    if len(str(minutes)) < 2:\n",
    "        result.append('0' + str(minutes) + ':')\n",
    "    else:\n",
    "        result.append(str(minutes) + ':')\n",
    "    sec = seconds - 3600 * hours - 60 * minutes \n",
    "    if len(str(sec)) < 2:\n",
    "        result.append('0' + str(sec))\n",
    "    else:\n",
    "        result.append(str(sec))\n",
    "    return ''.join(result)\n",
    "    \n",
    "make_readable(3700)"
   ]
  },
  {
   "cell_type": "code",
   "execution_count": 27,
   "metadata": {},
   "outputs": [
    {
     "data": {
      "text/plain": [
       "'01:01:40'"
      ]
     },
     "execution_count": 27,
     "metadata": {},
     "output_type": "execute_result"
    }
   ],
   "source": [
    "# Alternative solution to above \n",
    "def make_readable(s):\n",
    "    return '{:02}:{:02}:{:02}'.format(int(s / 3600), int(s / 60 % 60), int(s % 60))\n",
    "\n",
    "make_readable(3700)"
   ]
  },
  {
   "cell_type": "markdown",
   "metadata": {},
   "source": [
    "Reverse a string while maintaining spaces."
   ]
  },
  {
   "cell_type": "code",
   "execution_count": 32,
   "metadata": {},
   "outputs": [
    {
     "data": {
      "text/plain": [
       "'skco redo cruoy'"
      ]
     },
     "execution_count": 32,
     "metadata": {},
     "output_type": "execute_result"
    }
   ],
   "source": [
    "def solve(s):\n",
    "    split = list(s)\n",
    "    rev_split = split[::-1]\n",
    "    rev_split_no_spaces = [x for x in rev_split if x != \" \"]\n",
    "    index_space = []\n",
    "    for i in range(len(split)):\n",
    "        if split[i] == \" \":\n",
    "            index_space.append(i)\n",
    "    for i in index_space:\n",
    "        rev_split_no_spaces.insert(i,\" \")\n",
    "    return \"\".join(rev_split_no_spaces)\n",
    "\n",
    "solve(\"your code rocks\")"
   ]
  },
  {
   "cell_type": "markdown",
   "metadata": {},
   "source": [
    "Your task is to implement a function that takes one or more dictionaries and combines them in one result dictionary.\n",
    "\n",
    "The keys in the given dictionaries can overlap. In that case you should combine all source values in an array. Duplicate values should be preserved."
   ]
  },
  {
   "cell_type": "code",
   "execution_count": 16,
   "metadata": {},
   "outputs": [
    {
     "data": {
      "text/plain": [
       "{'A': [1, 2], 'B': [2], 'C': [3]}"
      ]
     },
     "execution_count": 16,
     "metadata": {},
     "output_type": "execute_result"
    }
   ],
   "source": [
    "from collections import defaultdict\n",
    "\n",
    "def merge(*dicts):\n",
    "    result = defaultdict(list)\n",
    "    for d in (dicts):\n",
    "        for key, value in d.items():\n",
    "            result[key].append(value)\n",
    "    return dict(result)\n",
    "\n",
    "\n",
    "x = {'A':1, 'B': 2}\n",
    "y = {'A':2, 'C': 3}\n",
    "\n",
    "merge(x,y)"
   ]
  },
  {
   "cell_type": "markdown",
   "metadata": {},
   "source": [
    "Jurassic Word is full of wonderful prehistoric creatures...eating a lot. In this kata your task is to take in a lunchtime scene of a dinosaur and their food, and decipher exactly what ate what."
   ]
  },
  {
   "cell_type": "code",
   "execution_count": 168,
   "metadata": {},
   "outputs": [],
   "source": [
    "class JurassicWord(object):\n",
    "    def __init__(self):\n",
    "        self.dead_dino = \"_C     C}>\" \n",
    "        self.flowers = \"iii     iii\"\n",
    "        self.leaves = \"|||     |||\"\n",
    "        self.t_rex = \"VvvvV\"\n",
    "        self.velociraptor = \"vvvvv\" \n",
    "        self.brachiosaurus = \"uuuuu\"\n",
    "        self.triceratops = \"uuVuu\"\n",
    "        \n",
    "    def lunch_time(self, scene):\n",
    "            \n",
    "        if scene[0:2] == \"_C\" and scene[-3:] == 'C}>':\n",
    "            if self.t_rex in scene:\n",
    "                return \"A T-Rex is eating a dead dino.\"\n",
    "            elif self.velociraptor in scene:\n",
    "                return \"A velociraptor is eating a dead dino.\"\n",
    "            else:\n",
    "                return \"Something is eating a dead dino.\"\n",
    "        elif scene[0:3] == \"iii\" and scene[-3:] == \"iii\":\n",
    "            if self.brachiosaurus in scene:\n",
    "                return \"A brachiosaurus is eating flowers.\"\n",
    "            elif self.triceratops in scene:\n",
    "                return \"A triceratops is eating flowers.\"\n",
    "            else:\n",
    "                return \"Something is eating flowers.\"\n",
    "        elif scene[0:3] == '|||' and scene[-3:] == '|||':\n",
    "            if self.brachiosaurus in scene:\n",
    "                return \"A brachiosaurus is eating leaves.\"\n",
    "            else:\n",
    "                return \"Something is eating leaves.\"\n",
    "        else:\n",
    "            if scene[3:8] == self.t_rex:\n",
    "                return \"A T-Rex is eating something.\"\n",
    "            elif scene[3:8] ==self.velociraptor:\n",
    "                return \"A velociraptor is eating something.\"\n",
    "            elif scene[3:8] == self.brachiosaurus:\n",
    "                return \"A brachiosaurus is eating something.\"\n",
    "            elif scene[3:8] == self.triceratops:\n",
    "                return \"A triceratops is eating something.\"\n",
    "            else:\n",
    "                return \"Something is eating something.\""
   ]
  },
  {
   "cell_type": "code",
   "execution_count": 169,
   "metadata": {},
   "outputs": [
    {
     "data": {
      "text/plain": [
       "'Something is eating something.'"
      ]
     },
     "execution_count": 169,
     "metadata": {},
     "output_type": "execute_result"
    }
   ],
   "source": [
    "jw = JurassicWord()\n",
    "jw.lunch_time(\"uuVuul;sfj\")"
   ]
  },
  {
   "cell_type": "markdown",
   "metadata": {},
   "source": [
    "Take a sentence (string) and reverse each word in the sentence. Do not reverse the order of the words, just the letters in each word."
   ]
  },
  {
   "cell_type": "code",
   "execution_count": 123,
   "metadata": {},
   "outputs": [],
   "source": [
    "def reverser(sentence):\n",
    "    rphrase = ''\n",
    "    word = ''\n",
    "    for char in sentence:\n",
    "        if char == ' ':\n",
    "            word = word[::-1]\n",
    "            rphrase += word + char\n",
    "            word = ''\n",
    "        else:\n",
    "            word += char\n",
    "    rphrase += word[::-1]\n",
    "    return rphrase"
   ]
  },
  {
   "cell_type": "code",
   "execution_count": 124,
   "metadata": {},
   "outputs": [
    {
     "data": {
      "text/plain": [
       "'iH mom'"
      ]
     },
     "execution_count": 124,
     "metadata": {},
     "output_type": "execute_result"
    }
   ],
   "source": [
    "reverser('Hi mom')"
   ]
  },
  {
   "cell_type": "code",
   "execution_count": null,
   "metadata": {},
   "outputs": [],
   "source": [
    "# Alternative solution\n",
    "def reverser(sentence):\n",
    "    return ' '.join(i[::-1] for i in sentence.split(' '))"
   ]
  },
  {
   "cell_type": "markdown",
   "metadata": {},
   "source": [
    "Write a function that takes a string of braces, and determines if the order of the braces is valid. It should return true if the string is valid, and false if it's invalid."
   ]
  },
  {
   "cell_type": "code",
   "execution_count": 263,
   "metadata": {},
   "outputs": [],
   "source": [
    "def validBraces(string):\n",
    "    pairs = {'{':'}', '(':')', '[':']'}\n",
    "    stack = []\n",
    "    if len(string) % 2 != 0:\n",
    "        return False\n",
    "    else:\n",
    "        for i in string:\n",
    "            if i in pairs.keys():\n",
    "                stack.append(i)\n",
    "            else:\n",
    "                if len(stack) != 0 and [key for key in pairs.keys() if pairs[key] == i][0] == stack[-1]:\n",
    "                    stack.pop()\n",
    "                else:\n",
    "                    return False\n",
    "        if len(stack) == 0:\n",
    "            return True\n",
    "        else:\n",
    "            return False"
   ]
  },
  {
   "cell_type": "code",
   "execution_count": 264,
   "metadata": {},
   "outputs": [
    {
     "data": {
      "text/plain": [
       "False"
      ]
     },
     "execution_count": 264,
     "metadata": {},
     "output_type": "execute_result"
    }
   ],
   "source": [
    "validBraces(\")(}{][\")"
   ]
  },
  {
   "cell_type": "code",
   "execution_count": null,
   "metadata": {},
   "outputs": [],
   "source": [
    "# Alternative solution \n",
    "def validBraces(string):\n",
    "    braces = {\"(\": \")\", \"[\": \"]\", \"{\": \"}\"}\n",
    "    stack = []\n",
    "    for character in string:\n",
    "        if character in braces.keys():\n",
    "            stack.append(character)\n",
    "        else:\n",
    "            if len(stack) == 0 or braces[stack.pop()] != character:\n",
    "                return False\n",
    "    return len(stack) == 0 "
   ]
  },
  {
   "cell_type": "markdown",
   "metadata": {},
   "source": [
    "Given a List [] of n integers , find minimum mumber to be inserted in a list, so that sum of all elements of list should equal the closest prime number ."
   ]
  },
  {
   "cell_type": "code",
   "execution_count": 287,
   "metadata": {},
   "outputs": [],
   "source": [
    "def minimum_number(numbers):\n",
    "    total = sum(numbers)\n",
    "    counter = 0\n",
    "    prime = 'no'\n",
    "    track = []\n",
    "    while prime == 'no':\n",
    "        test = total + counter\n",
    "        for i in range(2, test):\n",
    "            if test % i == 0:\n",
    "                track.append(i)\n",
    "        if len(track) != 0:\n",
    "            counter += 1\n",
    "            track = []\n",
    "        else:\n",
    "            prime = 'yes'\n",
    "    return counter     "
   ]
  },
  {
   "cell_type": "code",
   "execution_count": 288,
   "metadata": {},
   "outputs": [
    {
     "data": {
      "text/plain": [
       "2"
      ]
     },
     "execution_count": 288,
     "metadata": {},
     "output_type": "execute_result"
    }
   ],
   "source": [
    "minimum_number([50,39,49,6,17,28])"
   ]
  },
  {
   "cell_type": "markdown",
   "metadata": {},
   "source": [
    "The T9 typing predictor helps with suggestions for possible word combinations on an old-style numeric keypad phone. Each digit in the keypad (2-9) represents a group of 3-4 letters. To type a letter, press once the key which corresponds to the letter group that contains the required letter. Typing words is done by typing letters of the word in sequence.\n",
    "\n",
    " -----------------\n",
    "|  1  |  2  |  3  |\n",
    "|     | ABC | DEF |\n",
    "|-----|-----|-----|\n",
    "|  4  |  5  |  6  |\n",
    "| GHI | JKL | MNO |\n",
    "|-----|-----|-----|\n",
    "|  7  |  8  |  9  |\n",
    "| PQRS| TUV | WXYZ|\n",
    "------------------"
   ]
  },
  {
   "cell_type": "code",
   "execution_count": 335,
   "metadata": {},
   "outputs": [],
   "source": [
    "def T9(words,seq):\n",
    "    t9 = {'2': ['A', 'a', 'B', 'b', 'C', 'c'], '3': ['D','d', 'E','e', 'F', 'f'], \n",
    "          '4': [\"G\",'g', 'H','h', 'I', 'i'], '5': ['J','j' ,'K','k', 'L','l'], \n",
    "          '6': ['M', 'm','N','n', 'O','o'], '7': ['P','p' ,'Q', 'q','R', 'r','S','s'],\n",
    "          '8': ['T', 't','U','u', 'V','v'], '9': ['W','w', 'X', 'x','Y', 'y','Z' 'z']}\n",
    "    seq_s = list(seq)\n",
    "    words_cap = [word for word in words if len(word) == len(seq)]\n",
    "    count = 0\n",
    "    result = []\n",
    "    for suggestion in words_cap:\n",
    "        for i in range(len(seq_s)):\n",
    "            if suggestion[i] in t9[seq_s[i]]:\n",
    "                count += 1\n",
    "        if count == len(seq_s):\n",
    "            result.append(suggestion)\n",
    "            count = 0\n",
    "    if len(result) != 0:\n",
    "        return result\n",
    "    else:\n",
    "        result = ''\n",
    "        for i in range(len(seq_s)):\n",
    "            result += t9[seq_s[i]][0]\n",
    "        return [result.lower()] "
   ]
  },
  {
   "cell_type": "code",
   "execution_count": 337,
   "metadata": {},
   "outputs": [
    {
     "data": {
      "text/plain": [
       "['ktjeJVmg']"
      ]
     },
     "execution_count": 337,
     "metadata": {},
     "output_type": "execute_result"
    }
   ],
   "source": [
    "T9(['ktjeJVmg', 'JUYbiSUk'], '58535864')"
   ]
  },
  {
   "cell_type": "code",
   "execution_count": 334,
   "metadata": {},
   "outputs": [
    {
     "data": {
      "text/plain": [
       "False"
      ]
     },
     "execution_count": 334,
     "metadata": {},
     "output_type": "execute_result"
    }
   ],
   "source": [
    "['ktjeJVmg', 'JUYbiSUk'] should equal ['ktjeJVmg']"
   ]
  },
  {
   "cell_type": "markdown",
   "metadata": {},
   "source": [
    "Given a string of words, you need to find the highest scoring word.\n",
    "\n",
    "Each letter of a word scores points according to it's position in the alphabet: a = 1, b = 2, c = 3 etc.\n",
    "\n",
    "You need to return the highest scoring word as a string.\n",
    "\n",
    "If two words score the same, return the word that appears earliest in the original string.\n",
    "\n",
    "All letters will be lowercase and all inputs will be valid."
   ]
  },
  {
   "cell_type": "code",
   "execution_count": 343,
   "metadata": {},
   "outputs": [],
   "source": [
    "def high(x):\n",
    "    list_x = x.split()\n",
    "    alphabet = {'a' : 1, 'b' : 2, 'c':3, 'd': 4, 'e': 5, 'f':6, 'g':7, 'h': 8 , 'i':9, 'j':10, 'k':11, \n",
    "               'l':12, 'm':13, 'n':14, 'o' :15, 'p': 16, 'q': 17, 'r': 18, 's': 19, 't': 20, 'u': 21, \n",
    "               'v': 22, 'w': 23, 'x': 24, 'y': 25, 'z':26}\n",
    "    count = []\n",
    "    for word in list_x:\n",
    "        num = 0\n",
    "        for letter in word:\n",
    "            num += alphabet[letter]\n",
    "        count.append(num)\n",
    "    index = count.index(max(count))\n",
    "    return list_x[index]"
   ]
  },
  {
   "cell_type": "code",
   "execution_count": 344,
   "metadata": {},
   "outputs": [
    {
     "data": {
      "text/plain": [
       "'taxi'"
      ]
     },
     "execution_count": 344,
     "metadata": {},
     "output_type": "execute_result"
    }
   ],
   "source": [
    "high('man i need a taxi up to ubud')"
   ]
  },
  {
   "cell_type": "markdown",
   "metadata": {},
   "source": [
    "Input is a digit, return a string with commas"
   ]
  },
  {
   "cell_type": "code",
   "execution_count": 2,
   "metadata": {},
   "outputs": [],
   "source": [
    "def num_com(n):\n",
    "    n = str(n)\n",
    "    if len(n) > 3:\n",
    "        answer = []\n",
    "        count = 0\n",
    "        n_list = list(n)[::-1]\n",
    "        for i in range(len(n_list)):\n",
    "            if i % 3 == 0 and i > 0:\n",
    "                answer.extend(n_list[i-3: i])\n",
    "                answer.append(',')\n",
    "                count += i\n",
    "        answer.extend(n_list[count :])    \n",
    "    else:\n",
    "        return n\n",
    "    return \"\".join(answer[::-1])"
   ]
  },
  {
   "cell_type": "code",
   "execution_count": 3,
   "metadata": {},
   "outputs": [
    {
     "data": {
      "text/plain": [
       "'50,000'"
      ]
     },
     "execution_count": 3,
     "metadata": {},
     "output_type": "execute_result"
    }
   ],
   "source": [
    "num_com(50000)"
   ]
  },
  {
   "cell_type": "code",
   "execution_count": 4,
   "metadata": {},
   "outputs": [],
   "source": [
    "# Alternate solution\n",
    "def num_com2(n):\n",
    "    m = str(n)[::-1]\n",
    "    print(m)\n",
    "    n = ''\n",
    "    for i,x in enumerate(m):\n",
    "        print(i,x)\n",
    "        if i % 3 == 0 and i > 0:\n",
    "            n += ','\n",
    "        n += x\n",
    "    return n[::-1]"
   ]
  },
  {
   "cell_type": "markdown",
   "metadata": {},
   "source": [
    "Our task is to implement a method that accepts an array of strings containing fruits should returns an array of strings where all the rotten fruits are replaced by good ones."
   ]
  },
  {
   "cell_type": "code",
   "execution_count": 12,
   "metadata": {},
   "outputs": [],
   "source": [
    "def remove_rotten(bag_of_fruits):\n",
    "        if bag_of_fruits == [] or bag_of_fruits == None:\n",
    "            return []\n",
    "        else:\n",
    "            for i, val in enumerate(bag_of_fruits):\n",
    "                if val[:6] == \"rotten\":\n",
    "                    bag_of_fruits[i] = val[6:].lower()\n",
    "            return bag_of_fruits"
   ]
  },
  {
   "cell_type": "code",
   "execution_count": 13,
   "metadata": {},
   "outputs": [
    {
     "data": {
      "text/plain": [
       "['apple', 'banana', 'apple']"
      ]
     },
     "execution_count": 13,
     "metadata": {},
     "output_type": "execute_result"
    }
   ],
   "source": [
    "remove_rotten([\"apple\",\"rottenBanana\",\"apple\"])"
   ]
  },
  {
   "cell_type": "code",
   "execution_count": 14,
   "metadata": {},
   "outputs": [],
   "source": [
    "# Alternate solution \n",
    "def remove_rotten(bag_of_fruits):\n",
    "    return [x.replace('rotten', '').lower() for x in bag_of_fruits] if bag_of_fruits else []"
   ]
  },
  {
   "cell_type": "markdown",
   "metadata": {},
   "source": [
    "For each symbol in the string if it's the first character occurence, replace it with a '1', else replace it with the amount of times you've already seen it..."
   ]
  },
  {
   "cell_type": "code",
   "execution_count": 67,
   "metadata": {},
   "outputs": [],
   "source": [
    "def numericals(s):\n",
    "    result = \"\"\n",
    "    for i, val in enumerate(s):\n",
    "        if val not in s[:i] == True:\n",
    "            result = result + '1'\n",
    "        else:\n",
    "            result = result + str(s[:i].count(val) + 1)\n",
    "    return result"
   ]
  },
  {
   "cell_type": "code",
   "execution_count": 68,
   "metadata": {},
   "outputs": [
    {
     "data": {
      "text/plain": [
       "'11121111213112111131224132411122'"
      ]
     },
     "execution_count": 68,
     "metadata": {},
     "output_type": "execute_result"
    }
   ],
   "source": [
    "numericals(\"Hello, World! It's me, JomoPipi!\")"
   ]
  },
  {
   "cell_type": "markdown",
   "metadata": {},
   "source": [
    "Given an array, find the int that appears an odd number of times.\n",
    "\n",
    "There will always be only one integer that appears an odd number of times."
   ]
  },
  {
   "cell_type": "code",
   "execution_count": 1,
   "metadata": {},
   "outputs": [],
   "source": [
    "def find_it(seq):\n",
    "    for i in seq:\n",
    "        if seq.count(i) % 2 != 0:\n",
    "            return i"
   ]
  },
  {
   "cell_type": "code",
   "execution_count": 2,
   "metadata": {},
   "outputs": [
    {
     "data": {
      "text/plain": [
       "5"
      ]
     },
     "execution_count": 2,
     "metadata": {},
     "output_type": "execute_result"
    }
   ],
   "source": [
    "find_it([20,1,-1,2,-2,3,3,5,5,1,2,4,20,4,-1,-2,5])"
   ]
  },
  {
   "cell_type": "markdown",
   "metadata": {},
   "source": [
    "Take a list of ages when each of your great-grandparent died.\n",
    "Multiply each number by itself.\n",
    "Add them all together.\n",
    "Take the square root of the result.\n",
    "Divide by two."
   ]
  },
  {
   "cell_type": "code",
   "execution_count": 9,
   "metadata": {},
   "outputs": [],
   "source": [
    "def predict_age(age_1, age_2, age_3, age_4, age_5, age_6, age_7, age_8):\n",
    "    result = [age_1, age_2, age_3, age_4, age_5, age_6, age_7, age_8]\n",
    "    for i,num in enumerate(result):\n",
    "        result[i]= num * num\n",
    "    result= (sum(result) ** (1/2)) / 2\n",
    "    return int(result)"
   ]
  },
  {
   "cell_type": "code",
   "execution_count": 10,
   "metadata": {},
   "outputs": [
    {
     "data": {
      "text/plain": [
       "86"
      ]
     },
     "execution_count": 10,
     "metadata": {},
     "output_type": "execute_result"
    }
   ],
   "source": [
    "predict_age(65,60,75,55,60,63,64,45)"
   ]
  },
  {
   "cell_type": "markdown",
   "metadata": {},
   "source": [
    "In this Kata, you will be given a string that may have mixed uppercase and lowercase letters and your task is to convert that string to either lowercase only or uppercase only based on:\n",
    "\n",
    "make as few changes as possible.\n",
    "if the string contains equal number of uppercase and lowercase letters, convert the string to lowercase."
   ]
  },
  {
   "cell_type": "code",
   "execution_count": 10,
   "metadata": {},
   "outputs": [],
   "source": [
    "def solve(s):\n",
    "    upper = 0\n",
    "    for i in s:\n",
    "        if i == i.upper():\n",
    "            upper += 1\n",
    "    lower = len(s) - upper\n",
    "    if lower > upper:\n",
    "        return s.lower()\n",
    "    elif upper > lower:\n",
    "        return s.upper()\n",
    "    else:\n",
    "        return s.lower()"
   ]
  },
  {
   "cell_type": "code",
   "execution_count": 12,
   "metadata": {},
   "outputs": [
    {
     "data": {
      "text/plain": [
       "'CODE'"
      ]
     },
     "execution_count": 12,
     "metadata": {},
     "output_type": "execute_result"
    }
   ],
   "source": [
    "solve(\"CODe\")"
   ]
  },
  {
   "cell_type": "markdown",
   "metadata": {},
   "source": [
    "To accomplish her goal, Mrs. Frizzle will ensure each student has a chance to partner with every other student in the class in a series of science projects.\n",
    "\n",
    "Mrs. Frizzle does not know who will be in her class next semester, but she does know she will have n students total in her class."
   ]
  },
  {
   "cell_type": "code",
   "execution_count": 14,
   "metadata": {},
   "outputs": [],
   "source": [
    "from math import factorial\n",
    "\n",
    "def projectPartners(n):\n",
    "    return factorial(n) / (factorial(n-2) * factorial(2))"
   ]
  },
  {
   "cell_type": "code",
   "execution_count": 18,
   "metadata": {},
   "outputs": [
    {
     "data": {
      "text/plain": [
       "10.0"
      ]
     },
     "execution_count": 18,
     "metadata": {},
     "output_type": "execute_result"
    }
   ],
   "source": [
    "projectPartners(5)"
   ]
  },
  {
   "cell_type": "code",
   "execution_count": null,
   "metadata": {},
   "outputs": [],
   "source": []
  }
 ],
 "metadata": {
  "kernelspec": {
   "display_name": "Python [conda env:anaconda3]",
   "language": "python",
   "name": "conda-env-anaconda3-py"
  },
  "language_info": {
   "codemirror_mode": {
    "name": "ipython",
    "version": 3
   },
   "file_extension": ".py",
   "mimetype": "text/x-python",
   "name": "python",
   "nbconvert_exporter": "python",
   "pygments_lexer": "ipython3",
   "version": "3.6.4"
  }
 },
 "nbformat": 4,
 "nbformat_minor": 2
}
