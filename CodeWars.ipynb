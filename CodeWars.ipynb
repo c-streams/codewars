{
 "cells": [
  {
   "cell_type": "code",
   "execution_count": 8,
   "metadata": {},
   "outputs": [
    {
     "data": {
      "text/plain": [
       "11"
      ]
     },
     "execution_count": 8,
     "metadata": {},
     "output_type": "execute_result"
    }
   ],
   "source": [
    "# Given an array of integers your solution should find the smallest integer. Assume no empty arrays\n",
    "def find_smallest_int(arr):\n",
    "    min = arr[0]\n",
    "    for i in arr:\n",
    "        if i < min:\n",
    "            min = i\n",
    "    return min \n",
    "\n",
    "find_smallest_int([78, 56, 232, 12, 11, 43])"
   ]
  },
  {
   "cell_type": "code",
   "execution_count": 7,
   "metadata": {},
   "outputs": [
    {
     "data": {
      "text/plain": [
       "11"
      ]
     },
     "execution_count": 7,
     "metadata": {},
     "output_type": "execute_result"
    }
   ],
   "source": [
    "# Use the built in min() function \n",
    "def find_smallest_alt(arr):\n",
    "    return min(arr)\n",
    "\n",
    "find_smallest_alt([78, 56, 232, 12, 11, 43])"
   ]
  },
  {
   "cell_type": "code",
   "execution_count": 10,
   "metadata": {},
   "outputs": [
    {
     "data": {
      "text/plain": [
       "True"
      ]
     },
     "execution_count": 10,
     "metadata": {},
     "output_type": "execute_result"
    }
   ],
   "source": [
    "# All of the animals are having a feast! Each animal is bringing one dish. There is just one rule:\n",
    "# the dish must start and end with the same letters as the animal's name. For example, the great blue heron\n",
    "# is bringing garlic naan and the chickadee is bringing chocolate cake.\n",
    "\n",
    "def feast(beast, dish):\n",
    "    if beast[0] == dish[0] and beast[-1] == dish[-1]:\n",
    "        return True\n",
    "    else:\n",
    "        return False\n",
    "\n",
    "feast('chickadee', 'chocolate cake')\n",
    "    "
   ]
  },
  {
   "cell_type": "code",
   "execution_count": 30,
   "metadata": {},
   "outputs": [
    {
     "data": {
      "text/plain": [
       "[45, 87]"
      ]
     },
     "execution_count": 30,
     "metadata": {},
     "output_type": "execute_result"
    }
   ],
   "source": [
    "# The two oldest ages function/method needs to be completed. It should take an array of numbers \n",
    "# as its argument and return the two highest numbers within the array. The returned value should be an array \n",
    "# in the format[second oldest age, oldest age].\n",
    "\n",
    "def two_oldest_ages(ages):\n",
    "    result = []\n",
    "    result.append(max(ages))\n",
    "    ages.remove(max(ages))\n",
    "    result.append(max(ages))\n",
    "    return result[::-1] \n",
    "\n",
    "two_oldest_ages([1, 5, 87, 45, 8, 8])"
   ]
  },
  {
   "cell_type": "code",
   "execution_count": 35,
   "metadata": {},
   "outputs": [],
   "source": [
    "# Same problem above, but solve using a lambda function\n",
    "two_oldest_ages = lambda a: sorted(a)[-2:]"
   ]
  },
  {
   "cell_type": "code",
   "execution_count": 36,
   "metadata": {},
   "outputs": [
    {
     "data": {
      "text/plain": [
       "3"
      ]
     },
     "execution_count": 36,
     "metadata": {},
     "output_type": "execute_result"
    }
   ],
   "source": [
    "# Simple, given a string of words, return the length of the shortest word(s).\n",
    "def find_short(s):\n",
    "    str_list = s.split()\n",
    "    l = len(str_list[0])\n",
    "    for i in str_list:\n",
    "        if len(i) < l:\n",
    "            l = len(i)\n",
    "    return l\n",
    "\n",
    "find_short(\"bitcoin take over the world maybe who knows perhaps\")"
   ]
  },
  {
   "cell_type": "code",
   "execution_count": null,
   "metadata": {},
   "outputs": [],
   "source": [
    "# Same as above using list comprehension \n",
    "def find_short(s):\n",
    "    return min(len(x) for x in s.split())"
   ]
  },
  {
   "cell_type": "code",
   "execution_count": 38,
   "metadata": {},
   "outputs": [
    {
     "data": {
      "text/plain": [
       "False"
      ]
     },
     "execution_count": 38,
     "metadata": {},
     "output_type": "execute_result"
    }
   ],
   "source": [
    "# Check to see if a string has the same amount of 'x's and 'o's.\n",
    "# The method must return a boolean and be case insensitive. The string can contain any char.\n",
    "def xo(s):\n",
    "    s = s.lower()\n",
    "    x_count = 0\n",
    "    o_count = 0\n",
    "    for i in s:\n",
    "        if i == 'x':\n",
    "            x_count += 1\n",
    "        elif i == 'o':\n",
    "            o_count += 1\n",
    "    return x_count == o_count \n",
    "\n",
    "xo(\"xoo\")"
   ]
  },
  {
   "cell_type": "code",
   "execution_count": null,
   "metadata": {},
   "outputs": [],
   "source": [
    "# Same as above using count() \n",
    "def xo(s):\n",
    "    s = s.lower()\n",
    "    return s.count('x') == s.count('o')"
   ]
  },
  {
   "cell_type": "code",
   "execution_count": 49,
   "metadata": {},
   "outputs": [
    {
     "data": {
      "text/plain": [
       "4"
      ]
     },
     "execution_count": 49,
     "metadata": {},
     "output_type": "execute_result"
    }
   ],
   "source": [
    "# Given an array (arr) as an argument complete the function countSmileys \n",
    "# that should return the total number of smiling faces.\n",
    "def count_smileys(arr):\n",
    "    count = 0\n",
    "    for i in arr:\n",
    "        if len(i) == 3:\n",
    "            if i[0] in [':', ';']:\n",
    "                if i[1] in ['-', '~']:\n",
    "                    if i[2] in [')', 'D']:\n",
    "                        count += 1\n",
    "        elif len(i) == 2:\n",
    "             if i[0] in [':', ';']:\n",
    "                    if i[1] in [')', 'D']:\n",
    "                        count += 1\n",
    "    return count \n",
    "            \n",
    "count_smileys([':D',':~)',';~D',':)'])           "
   ]
  },
  {
   "cell_type": "code",
   "execution_count": null,
   "metadata": {},
   "outputs": [],
   "source": [
    "# Alternate way to solve above\n",
    "def count_smileys(arr):\n",
    "    eyes = [\":\", \";\"]\n",
    "    noses = [\"\", \"-\", \"~\"]\n",
    "    mouths = [\")\", \"D\"]\n",
    "    count = 0\n",
    "    for eye in eyes:\n",
    "        for nose in noses:\n",
    "            for mouth in mouths:\n",
    "                face = eye + nose + mouth\n",
    "                count += arr.count(face)\n",
    "    return count"
   ]
  },
  {
   "cell_type": "code",
   "execution_count": 2,
   "metadata": {},
   "outputs": [
    {
     "data": {
      "text/plain": [
       "6"
      ]
     },
     "execution_count": 2,
     "metadata": {},
     "output_type": "execute_result"
    }
   ],
   "source": [
    "#You get an array of numbers, return the sum of all of the positives ones.\n",
    "def positive_sum(arr):\n",
    "    result = 0\n",
    "    for i in arr:\n",
    "        if i > 0:\n",
    "            result += i\n",
    "    return result\n",
    "positive_sum([1,2,3,-2])"
   ]
  },
  {
   "cell_type": "code",
   "execution_count": null,
   "metadata": {},
   "outputs": [],
   "source": [
    "#Alternate way to solve above\n",
    "def positive_sum(arr):\n",
    "    return sum(x for x in arr if x > 0)"
   ]
  },
  {
   "cell_type": "code",
   "execution_count": 9,
   "metadata": {},
   "outputs": [
    {
     "data": {
      "text/plain": [
       "4"
      ]
     },
     "execution_count": 9,
     "metadata": {},
     "output_type": "execute_result"
    }
   ],
   "source": [
    "# Given a year, return the century it is in.\n",
    "def century(year):\n",
    "    if year < 100:\n",
    "        return 1\n",
    "    elif year % 100 == 0:\n",
    "        return int(year / 100)\n",
    "    else:\n",
    "        return int(year / 100) + 1\n",
    "    \n",
    "century(356)"
   ]
  },
  {
   "cell_type": "code",
   "execution_count": 11,
   "metadata": {},
   "outputs": [
    {
     "data": {
      "text/plain": [
       "'green'"
      ]
     },
     "execution_count": 11,
     "metadata": {},
     "output_type": "execute_result"
    }
   ],
   "source": [
    "# Output the next light color - green, yellow, red\n",
    "def update_light(current):\n",
    "    if current == 'green':\n",
    "        return 'yellow'\n",
    "    elif current == 'yellow':\n",
    "        return 'red'\n",
    "    elif current == 'red':\n",
    "        return 'green'\n",
    "    \n",
    "update_light('red')"
   ]
  },
  {
   "cell_type": "code",
   "execution_count": null,
   "metadata": {},
   "outputs": [],
   "source": []
  }
 ],
 "metadata": {
  "kernelspec": {
   "display_name": "Python [conda env:anaconda3]",
   "language": "python",
   "name": "conda-env-anaconda3-py"
  },
  "language_info": {
   "codemirror_mode": {
    "name": "ipython",
    "version": 3
   },
   "file_extension": ".py",
   "mimetype": "text/x-python",
   "name": "python",
   "nbconvert_exporter": "python",
   "pygments_lexer": "ipython3",
   "version": "3.6.4"
  }
 },
 "nbformat": 4,
 "nbformat_minor": 2
}
