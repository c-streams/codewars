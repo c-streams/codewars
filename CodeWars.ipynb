{
 "cells": [
  {
   "cell_type": "markdown",
   "metadata": {},
   "source": [
    "# CodeWars Solutions "
   ]
  },
  {
   "cell_type": "markdown",
   "metadata": {},
   "source": [
    "Given an array of integers your solution should find the smallest integer. Assume no empty arrays"
   ]
  },
  {
   "cell_type": "code",
   "execution_count": 8,
   "metadata": {},
   "outputs": [
    {
     "data": {
      "text/plain": [
       "11"
      ]
     },
     "execution_count": 8,
     "metadata": {},
     "output_type": "execute_result"
    }
   ],
   "source": [
    "def find_smallest_int(arr):\n",
    "    min = arr[0]\n",
    "    for i in arr:\n",
    "        if i < min:\n",
    "            min = i\n",
    "    return min \n",
    "\n",
    "find_smallest_int([78, 56, 232, 12, 11, 43])"
   ]
  },
  {
   "cell_type": "code",
   "execution_count": 7,
   "metadata": {},
   "outputs": [
    {
     "data": {
      "text/plain": [
       "11"
      ]
     },
     "execution_count": 7,
     "metadata": {},
     "output_type": "execute_result"
    }
   ],
   "source": [
    "# Use the built in min() function \n",
    "def find_smallest_alt(arr):\n",
    "    return min(arr)\n",
    "\n",
    "find_smallest_alt([78, 56, 232, 12, 11, 43])"
   ]
  },
  {
   "cell_type": "markdown",
   "metadata": {},
   "source": [
    "All of the animals are having a feast! Each animal is bringing one dish. There is just one rule: the dish must start and end with the same letters as the animal's name. For example, the great blue heron is bringing garlic naan and the chickadee is bringing chocolate cake."
   ]
  },
  {
   "cell_type": "code",
   "execution_count": 10,
   "metadata": {},
   "outputs": [
    {
     "data": {
      "text/plain": [
       "True"
      ]
     },
     "execution_count": 10,
     "metadata": {},
     "output_type": "execute_result"
    }
   ],
   "source": [
    "def feast(beast, dish):\n",
    "    if beast[0] == dish[0] and beast[-1] == dish[-1]:\n",
    "        return True\n",
    "    else:\n",
    "        return False\n",
    "\n",
    "feast('chickadee', 'chocolate cake')  "
   ]
  },
  {
   "cell_type": "markdown",
   "metadata": {},
   "source": [
    "The two oldest ages function/method needs to be completed. It should take an array of numbers as its argument and return the two highest numbers within the array. The returned value should be an array in the format[second oldest age, oldest age]."
   ]
  },
  {
   "cell_type": "code",
   "execution_count": 30,
   "metadata": {},
   "outputs": [
    {
     "data": {
      "text/plain": [
       "[45, 87]"
      ]
     },
     "execution_count": 30,
     "metadata": {},
     "output_type": "execute_result"
    }
   ],
   "source": [
    "def two_oldest_ages(ages):\n",
    "    result = []\n",
    "    result.append(max(ages))\n",
    "    ages.remove(max(ages))\n",
    "    result.append(max(ages))\n",
    "    return result[::-1] \n",
    "\n",
    "two_oldest_ages([1, 5, 87, 45, 8, 8])"
   ]
  },
  {
   "cell_type": "code",
   "execution_count": 35,
   "metadata": {},
   "outputs": [],
   "source": [
    "# Same problem above, but solve using a lambda function\n",
    "two_oldest_ages = lambda a: sorted(a)[-2:]"
   ]
  },
  {
   "cell_type": "markdown",
   "metadata": {},
   "source": [
    "Simple, given a string of words, return the length of the shortest word(s)."
   ]
  },
  {
   "cell_type": "code",
   "execution_count": 36,
   "metadata": {},
   "outputs": [
    {
     "data": {
      "text/plain": [
       "3"
      ]
     },
     "execution_count": 36,
     "metadata": {},
     "output_type": "execute_result"
    }
   ],
   "source": [
    "def find_short(s):\n",
    "    str_list = s.split()\n",
    "    l = len(str_list[0])\n",
    "    for i in str_list:\n",
    "        if len(i) < l:\n",
    "            l = len(i)\n",
    "    return l\n",
    "\n",
    "find_short(\"bitcoin take over the world maybe who knows perhaps\")"
   ]
  },
  {
   "cell_type": "code",
   "execution_count": null,
   "metadata": {},
   "outputs": [],
   "source": [
    "# Same as above using list comprehension \n",
    "def find_short(s):\n",
    "    return min(len(x) for x in s.split())"
   ]
  },
  {
   "cell_type": "markdown",
   "metadata": {},
   "source": [
    "Check to see if a string has the same amount of 'x's and 'o's. The method must return a boolean and be case insensitive. The string can contain any char."
   ]
  },
  {
   "cell_type": "code",
   "execution_count": 38,
   "metadata": {},
   "outputs": [
    {
     "data": {
      "text/plain": [
       "False"
      ]
     },
     "execution_count": 38,
     "metadata": {},
     "output_type": "execute_result"
    }
   ],
   "source": [
    "def xo(s):\n",
    "    s = s.lower()\n",
    "    x_count = 0\n",
    "    o_count = 0\n",
    "    for i in s:\n",
    "        if i == 'x':\n",
    "            x_count += 1\n",
    "        elif i == 'o':\n",
    "            o_count += 1\n",
    "    return x_count == o_count \n",
    "\n",
    "xo(\"xoo\")"
   ]
  },
  {
   "cell_type": "code",
   "execution_count": null,
   "metadata": {},
   "outputs": [],
   "source": [
    "# Same as above using count() \n",
    "def xo(s):\n",
    "    s = s.lower()\n",
    "    return s.count('x') == s.count('o')"
   ]
  },
  {
   "cell_type": "markdown",
   "metadata": {},
   "source": [
    "Given an array (arr) as an argument complete the function countSmileys that should return the total number of smiling faces."
   ]
  },
  {
   "cell_type": "code",
   "execution_count": 49,
   "metadata": {},
   "outputs": [
    {
     "data": {
      "text/plain": [
       "4"
      ]
     },
     "execution_count": 49,
     "metadata": {},
     "output_type": "execute_result"
    }
   ],
   "source": [
    "def count_smileys(arr):\n",
    "    count = 0\n",
    "    for i in arr:\n",
    "        if len(i) == 3:\n",
    "            if i[0] in [':', ';']:\n",
    "                if i[1] in ['-', '~']:\n",
    "                    if i[2] in [')', 'D']:\n",
    "                        count += 1\n",
    "        elif len(i) == 2:\n",
    "             if i[0] in [':', ';']:\n",
    "                    if i[1] in [')', 'D']:\n",
    "                        count += 1\n",
    "    return count \n",
    "            \n",
    "count_smileys([':D',':~)',';~D',':)'])           "
   ]
  },
  {
   "cell_type": "code",
   "execution_count": null,
   "metadata": {},
   "outputs": [],
   "source": [
    "# Alternate way to solve above\n",
    "def count_smileys(arr):\n",
    "    eyes = [\":\", \";\"]\n",
    "    noses = [\"\", \"-\", \"~\"]\n",
    "    mouths = [\")\", \"D\"]\n",
    "    count = 0\n",
    "    for eye in eyes:\n",
    "        for nose in noses:\n",
    "            for mouth in mouths:\n",
    "                face = eye + nose + mouth\n",
    "                count += arr.count(face)\n",
    "    return count"
   ]
  },
  {
   "cell_type": "markdown",
   "metadata": {},
   "source": [
    "You get an array of numbers, return the sum of all of the positives ones."
   ]
  },
  {
   "cell_type": "code",
   "execution_count": 2,
   "metadata": {},
   "outputs": [
    {
     "data": {
      "text/plain": [
       "6"
      ]
     },
     "execution_count": 2,
     "metadata": {},
     "output_type": "execute_result"
    }
   ],
   "source": [
    "def positive_sum(arr):\n",
    "    result = 0\n",
    "    for i in arr:\n",
    "        if i > 0:\n",
    "            result += i\n",
    "    return result\n",
    "positive_sum([1,2,3,-2])"
   ]
  },
  {
   "cell_type": "code",
   "execution_count": null,
   "metadata": {},
   "outputs": [],
   "source": [
    "#Alternate way to solve above\n",
    "def positive_sum(arr):\n",
    "    return sum(x for x in arr if x > 0)"
   ]
  },
  {
   "cell_type": "markdown",
   "metadata": {},
   "source": [
    "Given a year, return the century it is in."
   ]
  },
  {
   "cell_type": "code",
   "execution_count": 9,
   "metadata": {},
   "outputs": [
    {
     "data": {
      "text/plain": [
       "4"
      ]
     },
     "execution_count": 9,
     "metadata": {},
     "output_type": "execute_result"
    }
   ],
   "source": [
    "def century(year):\n",
    "    if year < 100:\n",
    "        return 1\n",
    "    elif year % 100 == 0:\n",
    "        return int(year / 100)\n",
    "    else:\n",
    "        return int(year / 100) + 1\n",
    "    \n",
    "century(356)"
   ]
  },
  {
   "cell_type": "markdown",
   "metadata": {},
   "source": [
    "Output the next light color - green, yellow, red"
   ]
  },
  {
   "cell_type": "code",
   "execution_count": 11,
   "metadata": {},
   "outputs": [
    {
     "data": {
      "text/plain": [
       "'green'"
      ]
     },
     "execution_count": 11,
     "metadata": {},
     "output_type": "execute_result"
    }
   ],
   "source": [
    "def update_light(current):\n",
    "    if current == 'green':\n",
    "        return 'yellow'\n",
    "    elif current == 'yellow':\n",
    "        return 'red'\n",
    "    elif current == 'red':\n",
    "        return 'green'\n",
    "    \n",
    "update_light('red')"
   ]
  },
  {
   "cell_type": "markdown",
   "metadata": {},
   "source": [
    "Given an array of integers , Find the maximum product obtained from multiplying 2 adjacent numbers in the array."
   ]
  },
  {
   "cell_type": "code",
   "execution_count": 8,
   "metadata": {},
   "outputs": [
    {
     "data": {
      "text/plain": [
       "-14"
      ]
     },
     "execution_count": 8,
     "metadata": {},
     "output_type": "execute_result"
    }
   ],
   "source": [
    "def adjacent_element_product(array):\n",
    "    max_product = array[0] * array[1]\n",
    "    for i in range(len(array) - 1): \n",
    "        if array[i] * array[i + 1] > max_product:\n",
    "            max_product = array[i] * array[i + 1]\n",
    "    return max_product\n",
    "\n",
    "adjacent_element_product([-23, 4, -5, 99, -27, 329, -2, 7, -921])"
   ]
  },
  {
   "cell_type": "markdown",
   "metadata": {},
   "source": [
    "Your task is very simple.Just write a function isAlphabetic(s), which takes an input string s in lowercase and returnstrue/false depending on whether the string is in alphabetical order or not."
   ]
  },
  {
   "cell_type": "code",
   "execution_count": 18,
   "metadata": {},
   "outputs": [
    {
     "name": "stdout",
     "output_type": "stream",
     "text": [
      "['c', 'o', 'd', 'e', 'w', 'a', 'r', 's']\n"
     ]
    },
    {
     "data": {
      "text/plain": [
       "False"
      ]
     },
     "execution_count": 18,
     "metadata": {},
     "output_type": "execute_result"
    }
   ],
   "source": [
    "def alphabetic(s):\n",
    "    split = list(s)\n",
    "    print(split)\n",
    "    for i in range(len(split) -1):\n",
    "        if split[i] > split[i + 1]:\n",
    "            return False\n",
    "    return True \n",
    "\n",
    "alphabetic('codewars')"
   ]
  },
  {
   "cell_type": "code",
   "execution_count": 19,
   "metadata": {},
   "outputs": [
    {
     "data": {
      "text/plain": [
       "['a', 'c', 'd', 'e', 'o', 'r', 's', 'w']"
      ]
     },
     "execution_count": 19,
     "metadata": {},
     "output_type": "execute_result"
    }
   ],
   "source": [
    "# Alternative solution to above \n",
    "def alphabetic(s):\n",
    "    return sorted(s) == list(s)"
   ]
  },
  {
   "cell_type": "markdown",
   "metadata": {},
   "source": [
    "Given two strings, the first being a random string and the second being the same as the first, but with three added characters somewhere in the string (three same characters), Write a function that returns the added character"
   ]
  },
  {
   "cell_type": "code",
   "execution_count": 45,
   "metadata": {},
   "outputs": [
    {
     "data": {
      "text/plain": [
       "'c'"
      ]
     },
     "execution_count": 45,
     "metadata": {},
     "output_type": "execute_result"
    }
   ],
   "source": [
    "def added_char(s1, s2):\n",
    "    s1_list = sorted(s1)\n",
    "    s2_list = sorted(s2)\n",
    "    for i in s1_list:\n",
    "        if i in s2_list:\n",
    "            s2_list.remove(i)\n",
    "    return s2_list[0]\n",
    "            \n",
    "added_char(\"hello\",\"checlclo\")   "
   ]
  },
  {
   "cell_type": "code",
   "execution_count": 46,
   "metadata": {},
   "outputs": [],
   "source": [
    "# Alternative solution to above\n",
    "def added_char(s1, s2):\n",
    "    for i in s2:\n",
    "        if s1.count(i) != s2.count(i):\n",
    "            return i"
   ]
  },
  {
   "cell_type": "markdown",
   "metadata": {},
   "source": [
    "Create a function named divisors/Divisors that takes an integer and returns an array with all of the integer's divisors (except for 1 and the number itself). If the number is prime return the string '(integer) is prime' (null in C#) (use Either String a in Haskell and Result<Vec<u32>, String> in Rust)."
   ]
  },
  {
   "cell_type": "code",
   "execution_count": 52,
   "metadata": {},
   "outputs": [
    {
     "data": {
      "text/plain": [
       "'13 is prime'"
      ]
     },
     "execution_count": 52,
     "metadata": {},
     "output_type": "execute_result"
    }
   ],
   "source": [
    "def divisors(integer):\n",
    "    result = []\n",
    "    for i in range(2, integer):\n",
    "        if integer % i == 0:\n",
    "            result.append(i)\n",
    "    if result == []:\n",
    "        return \"{} is prime\".format(integer)\n",
    "    return result \n",
    "\n",
    "divisors(13)"
   ]
  },
  {
   "cell_type": "markdown",
   "metadata": {},
   "source": [
    "Write a function that takes in a string of one or more words, and returns the same string, but with all five or more letter words reversed (Just like the name of this Kata). Strings passed in will consist of only letters and spaces. Spaces will be included only when more than one word is present."
   ]
  },
  {
   "cell_type": "code",
   "execution_count": 68,
   "metadata": {},
   "outputs": [
    {
     "data": {
      "text/plain": [
       "'emocleW my name is retsam of enoyreve'"
      ]
     },
     "execution_count": 68,
     "metadata": {},
     "output_type": "execute_result"
    }
   ],
   "source": [
    "def spin_words(sentence):\n",
    "    split = sentence.split()\n",
    "    split = [ i[::-1] if len(i)>= 5 else i for i in split]\n",
    "    return ' '.join(split)\n",
    "\n",
    "spin_words(\"Welcome my name is master of everyone\")"
   ]
  },
  {
   "cell_type": "markdown",
   "metadata": {},
   "source": [
    "You are going to be given an array of integers. Your job is to take that array and find an index N where the sum of the integers to the left of N is equal to the sum of the integers to the right of N. If there is no index that would make this happen, return -1"
   ]
  },
  {
   "cell_type": "code",
   "execution_count": 77,
   "metadata": {},
   "outputs": [
    {
     "data": {
      "text/plain": [
       "-1"
      ]
     },
     "execution_count": 77,
     "metadata": {},
     "output_type": "execute_result"
    }
   ],
   "source": [
    "def find_even_index(arr):\n",
    "    result = -1\n",
    "    for i in range(len(arr)):\n",
    "        if sum(arr[:i]) == sum(arr[i+1:]):\n",
    "            return i\n",
    "    return result\n",
    "\n",
    "find_even_index([1,2,3,4,5,6])"
   ]
  },
  {
   "cell_type": "markdown",
   "metadata": {},
   "source": [
    "Build Tower by the following given argument: number of floors (integer and always greater than 0)."
   ]
  },
  {
   "cell_type": "code",
   "execution_count": 91,
   "metadata": {},
   "outputs": [
    {
     "data": {
      "text/plain": [
       "['   *   ', '  ***  ', ' ***** ', '*******']"
      ]
     },
     "execution_count": 91,
     "metadata": {},
     "output_type": "execute_result"
    }
   ],
   "source": [
    "def tower_builder(n_floors):\n",
    "    result = []\n",
    "    counter = 1\n",
    "    spaces = n_floors - 1\n",
    "    for i in range(1, n_floors + 1):\n",
    "        result.append((' ' * spaces) + (counter * '*') + (' ' * spaces))\n",
    "        counter += 2\n",
    "        spaces = spaces - 1\n",
    "    return result \n",
    "\n",
    "tower_builder(4)     "
   ]
  },
  {
   "cell_type": "code",
   "execution_count": null,
   "metadata": {},
   "outputs": [],
   "source": []
  },
  {
   "cell_type": "code",
   "execution_count": null,
   "metadata": {},
   "outputs": [],
   "source": []
  }
 ],
 "metadata": {
  "kernelspec": {
   "display_name": "Python [conda env:anaconda3]",
   "language": "python",
   "name": "conda-env-anaconda3-py"
  },
  "language_info": {
   "codemirror_mode": {
    "name": "ipython",
    "version": 3
   },
   "file_extension": ".py",
   "mimetype": "text/x-python",
   "name": "python",
   "nbconvert_exporter": "python",
   "pygments_lexer": "ipython3",
   "version": "3.6.4"
  }
 },
 "nbformat": 4,
 "nbformat_minor": 2
}
